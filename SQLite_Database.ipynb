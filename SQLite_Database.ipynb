{
 "cells": [
  {
   "cell_type": "markdown",
   "id": "c502ebca-e0ef-4c2e-a3ac-743e3ca79d64",
   "metadata": {},
   "source": [
    "## Import Libraries"
   ]
  },
  {
   "cell_type": "code",
   "execution_count": 2,
   "id": "1bc59ed2-cf42-4695-b5a2-6621f49ad6db",
   "metadata": {},
   "outputs": [],
   "source": [
    "\n",
    "import pandas as pd\n",
    "import numpy as np\n",
    "import matplotlib.pyplot as plt\n",
    "import sqlite3\n"
   ]
  },
  {
   "cell_type": "markdown",
   "id": "89a2d05e-d045-486a-b29d-0f1d4b56ea50",
   "metadata": {},
   "source": [
    "### Creating Sales Database"
   ]
  },
  {
   "cell_type": "code",
   "execution_count": 3,
   "id": "2317dfe2-34e7-4fb4-8e50-04553eb2b4eb",
   "metadata": {},
   "outputs": [],
   "source": [
    "# create a sqlite data base\n",
    "conn = sqlite3.connect('sales_data.db')\n",
    "cursor = conn.cursor()"
   ]
  },
  {
   "cell_type": "markdown",
   "id": "bc6dffa7-b4b9-4cd8-bea4-ab1b4ff1a642",
   "metadata": {},
   "source": [
    "### Creating a Table"
   ]
  },
  {
   "cell_type": "code",
   "execution_count": 7,
   "id": "2d99eba0-5f02-40f3-806d-b57c6f06ceee",
   "metadata": {},
   "outputs": [
    {
     "data": {
      "text/plain": [
       "<sqlite3.Cursor at 0x27fe62e5140>"
      ]
     },
     "execution_count": 7,
     "metadata": {},
     "output_type": "execute_result"
    }
   ],
   "source": [
    "cursor.execute(\"DROP TABLE IF EXISTS sales\")"
   ]
  },
  {
   "cell_type": "code",
   "execution_count": null,
   "id": "f78f0854-638e-40c8-bb46-20058b4bab52",
   "metadata": {},
   "outputs": [],
   "source": [
    "# Create table\n",
    "cursor.execute(\"\"\"\n",
    "CREATE TABLE sales (\n",
    "   sales_id INTEGER PRIMARY KEY AUTOINCREMENT,\n",
    "   order_date varchar(20) not null, \n",
    "   customer_id int not null,\n",
    "   total_amount decimal(12,2) null default 0,\n",
    "   order_number varchar(10) null,\n",
    "   product varchar(20) null,\n",
    "   unit_price decimal(12,2) not null default 0,\n",
    "   quantity int not null default 1\n",
    ")\n",
    "\"\"\")"
   ]
  },
  {
   "cell_type": "markdown",
   "id": "e5fd760d-2a19-41c5-8c98-00b1bf3cd8b7",
   "metadata": {},
   "source": [
    "### Insert data"
   ]
  },
  {
   "cell_type": "code",
   "execution_count": 8,
   "id": "279f0a20-644f-4d3f-a740-be73788df501",
   "metadata": {},
   "outputs": [],
   "source": [
    "# Insert data\n",
    "sales_data = [\n",
    "    ('Jul  4 2012 12:00:00',85,440.00,'542378','chai',14.00,12),\n",
    "    ('Jul  5 2012 12:00:00',79,1863.40,'542379','pizza',9.80,10),\n",
    "    ('Jul  8 2012 12:00:00',34,1813.00,'542380','samosa',34.80,5),\n",
    "    ('Jul  8 2012 12:00:00',84,670.80,'542381','fafda',18.60,9),\n",
    "    ('Jul  9 2012 12:00:00',76,3730.00,'542382','kaju_katli',42.40,40),\n",
    "    ('Jul 10 2012 12:00:00',34,1444.80,'542383','jalebi',7.70,10),\n",
    "    ('Jul 11 2012 12:00:00',14,625.20,'542384','peda',42.40,35),\n",
    "    ('Jul 12 2012 12:00:00',68,2490.50,'542385','dosa',16.80,15),\n",
    "    ('Jul 15 2012 12:00:00',88,517.80,'542386','chole_bhature',16.80,6),\n",
    "    ('Jul 16 2012 12:00:00',35,1119.90,'542387','aloo_paratha',15.60,15)\n",
    "]\n",
    "\n",
    "cursor.executemany(\"\"\"\n",
    "INSERT INTO sales (order_date, customer_id, total_amount, order_number, product, unit_price, quantity)\n",
    "VALUES (?, ?, ?, ?, ?, ?, ?)\n",
    "\"\"\", sales_data)\n",
    "\n",
    "conn.commit()\n",
    "cursor.close()\n",
    "conn.close()"
   ]
  },
  {
   "cell_type": "markdown",
   "id": "b0e4924d-fec3-4fc3-8054-f9efe732bd44",
   "metadata": {},
   "source": [
    "### Showing the table"
   ]
  },
  {
   "cell_type": "code",
   "execution_count": 9,
   "id": "90520b21-3c12-4199-9762-b3ac489729ca",
   "metadata": {},
   "outputs": [
    {
     "name": "stdout",
     "output_type": "stream",
     "text": [
      "sales_id order_date order_number total_amount customer_id product_id unit_price quantity\n",
      "1   Jul  4 2012 12:00:00      85       542378        440       chai     14     12\n",
      "2   Jul  5 2012 12:00:00      79       542379        1863.4       pizza     9.8     10\n",
      "3   Jul  8 2012 12:00:00      34       542380        1813       samosa     34.8     5\n",
      "4   Jul  8 2012 12:00:00      84       542381        670.8       fafda     18.6     9\n",
      "5   Jul  9 2012 12:00:00      76       542382        3730       kaju_katli     42.4     40\n",
      "6   Jul 10 2012 12:00:00      34       542383        1444.8       jalebi     7.7     10\n",
      "7   Jul 11 2012 12:00:00      14       542384        625.2       peda     42.4     35\n",
      "8   Jul 12 2012 12:00:00      68       542385        2490.5       dosa     16.8     15\n",
      "9   Jul 15 2012 12:00:00      88       542386        517.8       chole_bhature     16.8     6\n",
      "10   Jul 16 2012 12:00:00      35       542387        1119.9       aloo_paratha     15.6     15\n"
     ]
    }
   ],
   "source": [
    "conn = sqlite3.connect('sales_data.db')\n",
    "query = conn.execute(\"select * from sales\")\n",
    "print('sales_id','order_date','order_number','total_amount','customer_id','product_id','unit_price','quantity')\n",
    "for i in query:\n",
    "    print(i[0],' ',i[1],'    ', i[2],'     ',   i[4],'      ',   i[3],'     ', i[5],'   ', i[6],'   ',i[7])\n",
    "    "
   ]
  },
  {
   "cell_type": "markdown",
   "id": "b0b529bd-e582-47d8-8932-98112af5c4e0",
   "metadata": {},
   "source": [
    "### Query the Data and Load into Pandas"
   ]
  },
  {
   "cell_type": "code",
   "execution_count": 10,
   "id": "416acf87-859f-4f67-bec5-16904f5d4530",
   "metadata": {},
   "outputs": [
    {
     "name": "stdout",
     "output_type": "stream",
     "text": [
      "Sales Summary:\n",
      "         product  total_qty  revenue\n",
      "0   aloo_paratha         15    234.0\n",
      "1           chai         12    168.0\n",
      "2  chole_bhature          6    100.8\n",
      "3           dosa         15    252.0\n",
      "4          fafda          9    167.4\n",
      "5         jalebi         10     77.0\n",
      "6     kaju_katli         40   1696.0\n",
      "7           peda         35   1484.0\n",
      "8          pizza         10     98.0\n",
      "9         samosa          5    174.0\n"
     ]
    }
   ],
   "source": [
    "#  Connect to the database\n",
    "conn = sqlite3.connect(\"sales_data.db\")\n",
    "\n",
    "#  Run SQL query to get total quantity and revenue per product\n",
    "query = \"\"\"\n",
    "SELECT \n",
    "    product, \n",
    "    SUM(quantity) AS total_qty, \n",
    "    SUM(unit_price * quantity) AS revenue \n",
    "FROM sales \n",
    "GROUP BY product\n",
    "\"\"\"\n",
    "\n",
    "#  Load the result into pandas\n",
    "df = pd.read_sql_query(query, conn)\n",
    "\n",
    "# Close the DB connection\n",
    "conn.close()\n",
    "\n",
    "#  Print the results\n",
    "print(\"Sales Summary:\")\n",
    "print(df)"
   ]
  },
  {
   "cell_type": "markdown",
   "id": "1e31ff77-8283-4815-87b7-b5489243a344",
   "metadata": {},
   "source": [
    "### Plot a bar chart of revenue by product"
   ]
  },
  {
   "cell_type": "code",
   "execution_count": 11,
   "id": "aa136b3b-7ade-4023-b0ff-4c353ffbbc4d",
   "metadata": {},
   "outputs": [
    {
     "data": {
      "text/plain": [
       "<Figure size 1000x600 with 0 Axes>"
      ]
     },
     "metadata": {},
     "output_type": "display_data"
    },
    {
     "data": {
      "image/png": "[encoded data removed]",
      "text/plain": [
       "<Figure size 640x480 with 1 Axes>"
      ]
     },
     "metadata": {},
     "output_type": "display_data"
    }
   ],
   "source": [
    "#  Plot a bar chart of revenue by product\n",
    "plt.figure(figsize=(10, 6))\n",
    "df.plot(kind='bar', x='product', y='revenue', color='orange', legend=False)\n",
    "plt.title(\"Total Revenue by Product\")\n",
    "plt.xlabel(\"Product\")\n",
    "plt.ylabel(\"Revenue\")\n",
    "plt.tight_layout()\n",
    "plt.grid(axis='y', linestyle='--', alpha=0.7)\n",
    "plt.show()"
   ]
  },
  {
   "cell_type": "markdown",
   "id": "6aa43f51-e89f-4f5f-ac64-45dabeec9d5e",
   "metadata": {},
   "source": [
    "### Save the chart as an image"
   ]
  },
  {
   "cell_type": "code",
   "execution_count": 15,
   "id": "6f122e5e-9733-47b4-ab7e-afa56da9f8ce",
   "metadata": {},
   "outputs": [
    {
     "data": {
      "text/plain": [
       "<Figure size 640x480 with 0 Axes>"
      ]
     },
     "metadata": {},
     "output_type": "display_data"
    }
   ],
   "source": [
    "# Save the chart as an image\n",
    "plt.savefig(\"sales_summary_chart.png\")"
   ]
  },
  {
   "cell_type": "code",
   "execution_count": null,
   "id": "369c9716-0655-4971-9393-e673be84607f",
   "metadata": {},
   "outputs": [],
   "source": []
  }
 ],
 "metadata": {
  "kernelspec": {
   "display_name": "Python 3 (ipykernel)",
   "language": "python",
   "name": "python3"
  },
  "language_info": {
   "codemirror_mode": {
    "name": "ipython",
    "version": 3
   },
   "file_extension": ".py",
   "mimetype": "text/x-python",
   "name": "python",
   "nbconvert_exporter": "python",
   "pygments_lexer": "ipython3",
   "version": "3.11.7"
  }
 },
 "nbformat": 4,
 "nbformat_minor": 5
}
